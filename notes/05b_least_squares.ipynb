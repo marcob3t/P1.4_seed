{
 "cells": [
  {
   "cell_type": "markdown",
   "metadata": {},
   "source": [
    "# Least squares\n",
    "\n",
    "The following is an example from Lecture 06.\n",
    "\n",
    "The result of census of the population of Switzerland between 1900 and 2010 (in thousands) is summarized in the following table:\n",
    "\n",
    "|\tyear\t|\tpopulation\t|\n",
    "|-----------|---------------|\n",
    "|\t1900\t|\t3315\t|\n",
    "|\t1910\t|\t3753\t|\n",
    "|\t1920\t|\t3880\t|\n",
    "|\t1930\t|\t4066\t|\n",
    "|\t1941\t|\t4266\t|\n",
    "|\t1950\t|\t4715\t|\n",
    "|\t1960\t|\t5429\t|\n",
    "|\t1970\t|\t6270\t|\n",
    "|\t1980\t|\t6366\t|\n",
    "|\t1990\t|\t6874\t|\n",
    "|\t2000\t|\t7288\t|\n",
    "|\t2010\t|\t7783\t|\n",
    "\n",
    "\n",
    "* Is it possible to estimate the number of inhabitants of Switzerland\n",
    "during the year when there has not been census, for example in 1945\n",
    "and 1975?\n",
    "\n",
    "* Is it possible to predict the number of inhabitants of Switzerland in\n",
    "2020?"
   ]
  },
  {
   "cell_type": "code",
   "execution_count": 1,
   "metadata": {},
   "outputs": [
    {
     "name": "stdout",
     "output_type": "stream",
     "text": [
      "26802353.274437316 -40923.77128624008 20.806645395172925 -0.0035217535289880923\n",
      "4673.021194063127\n",
      "6172.457116425037\n",
      "8041.685336280614\n"
     ]
    },
    {
     "data": {
      "image/png": "[encoded data removed]",
      "text/plain": [
       "<matplotlib.figure.Figure at 0x7f8d70552978>"
      ]
     },
     "metadata": {},
     "output_type": "display_data"
    }
   ],
   "source": [
    "%matplotlib inline\n",
    "from numpy import *\n",
    "from matplotlib.pyplot import *\n",
    "\n",
    "year = array([1900, 1910, 1920, 1930, 1941, 1950, 1960, 1970, 1980, 1990, 2000, 2010])\n",
    "population = array([3315, 3753, 3880, 4066, 4266, 4715, 5429, 6270, 6366, 6874, 7288, 7783])\n",
    "\n",
    "assert len(year) is len(population)\n",
    "n = len(year)\n",
    "B = matrix([ones(n), year, year**2, year**3]).T\n",
    "BT = B.T\n",
    "\n",
    "y = matrix(population).T\n",
    "\n",
    "a = linalg.solve(BT*B, BT*y)\n",
    "a0 = float(a[0])\n",
    "a1 = float(a[1])\n",
    "a2 = float(a[2])\n",
    "a3 = float(a[3])\n",
    "print(a0, a1, a2, a3)\n",
    "\n",
    "xx = linspace(1900,2010,100)\n",
    "f = lambda x: a0 + a1*x + a2*x**2 + a3*x**3\n",
    "\n",
    "_ = plot(xx, f(xx))\n",
    "_ = scatter(year, population, color='r')\n",
    "\n",
    "\n",
    "\n",
    "print(f(1945))\n",
    "print(f(1975))\n",
    "print(f(2020))"
   ]
  },
  {
   "cell_type": "code",
   "execution_count": null,
   "metadata": {},
   "outputs": [],
   "source": []
  }
 ],
 "metadata": {
  "anaconda-cloud": {},
  "kernelspec": {
   "display_name": "Python 3",
   "language": "python",
   "name": "python3"
  },
  "language_info": {
   "codemirror_mode": {
    "name": "ipython",
    "version": 3
   },
   "file_extension": ".py",
   "mimetype": "text/x-python",
   "name": "python",
   "nbconvert_exporter": "python",
   "pygments_lexer": "ipython3",
   "version": "3.6.3"
  }
 },
 "nbformat": 4,
 "nbformat_minor": 1
}
